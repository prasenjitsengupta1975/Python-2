{
 "cells": [
  {
   "cell_type": "code",
   "execution_count": 1,
   "metadata": {},
   "outputs": [
    {
     "name": "stdout",
     "output_type": "stream",
     "text": [
      "\n",
      "X\n",
      "XX\n",
      "XXX\n",
      "XXXX\n",
      "XXX\n",
      "XX\n",
      "X\n",
      "\n",
      "\n"
     ]
    }
   ],
   "source": [
    "for i in range(5):\n",
    "    print('X'*i)\n",
    "    if i == 4:\n",
    "        for i in reversed(range(5)):\n",
    "            print('X'*(i-1))"
   ]
  },
  {
   "cell_type": "code",
   "execution_count": 2,
   "metadata": {},
   "outputs": [
    {
     "name": "stdout",
     "output_type": "stream",
     "text": [
      "word?AcadGild\n",
      "dliGdacA\n"
     ]
    }
   ],
   "source": [
    "str =input('word?')\n",
    "print(str[::-1])\n"
   ]
  },
  {
   "cell_type": "code",
   "execution_count": 1,
   "metadata": {},
   "outputs": [
    {
     "name": "stdout",
     "output_type": "stream",
     "text": [
      "WE, THE PEOPLE OF INDIA,\n",
      " having solemnly resolved to constitute India into a SOVEREIGN ! \n",
      " SOCIALIST, SECULAR, DEMOCRATIC REPUBLIC \n",
      " and to secure to all its citizen\n"
     ]
    }
   ],
   "source": [
    "print('WE, THE PEOPLE OF INDIA,\\n having solemnly resolved to constitute India into a SOVEREIGN {}'.format('! \\n SOCIALIST, SECULAR, DEMOCRATIC REPUBLIC \\n and to secure to all its citizen')  )"
   ]
  },
  {
   "cell_type": "code",
   "execution_count": null,
   "metadata": {},
   "outputs": [],
   "source": []
  }
 ],
 "metadata": {
  "kernelspec": {
   "display_name": "Python 3",
   "language": "python",
   "name": "python3"
  },
  "language_info": {
   "codemirror_mode": {
    "name": "ipython",
    "version": 3
   },
   "file_extension": ".py",
   "mimetype": "text/x-python",
   "name": "python",
   "nbconvert_exporter": "python",
   "pygments_lexer": "ipython3",
   "version": "3.6.5"
  }
 },
 "nbformat": 4,
 "nbformat_minor": 2
}
